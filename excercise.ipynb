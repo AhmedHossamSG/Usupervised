{
 "cells": [
  {
   "cell_type": "code",
   "execution_count": 2,
   "metadata": {},
   "outputs": [
    {
     "data": {
      "text/html": [
       "<div>\n",
       "<style scoped>\n",
       "    .dataframe tbody tr th:only-of-type {\n",
       "        vertical-align: middle;\n",
       "    }\n",
       "\n",
       "    .dataframe tbody tr th {\n",
       "        vertical-align: top;\n",
       "    }\n",
       "\n",
       "    .dataframe thead th {\n",
       "        text-align: right;\n",
       "    }\n",
       "</style>\n",
       "<table border=\"1\" class=\"dataframe\">\n",
       "  <thead>\n",
       "    <tr style=\"text-align: right;\">\n",
       "      <th></th>\n",
       "      <th>Feature 1</th>\n",
       "      <th>Feature 2</th>\n",
       "      <th>Cluster</th>\n",
       "    </tr>\n",
       "  </thead>\n",
       "  <tbody>\n",
       "    <tr>\n",
       "      <th>0</th>\n",
       "      <td>5.248357</td>\n",
       "      <td>10.265005</td>\n",
       "      <td>1</td>\n",
       "    </tr>\n",
       "    <tr>\n",
       "      <th>1</th>\n",
       "      <td>4.930868</td>\n",
       "      <td>9.628871</td>\n",
       "      <td>1</td>\n",
       "    </tr>\n",
       "    <tr>\n",
       "      <th>2</th>\n",
       "      <td>5.323844</td>\n",
       "      <td>10.768670</td>\n",
       "      <td>0</td>\n",
       "    </tr>\n",
       "    <tr>\n",
       "      <th>3</th>\n",
       "      <td>5.761515</td>\n",
       "      <td>10.566390</td>\n",
       "      <td>1</td>\n",
       "    </tr>\n",
       "    <tr>\n",
       "      <th>4</th>\n",
       "      <td>4.882923</td>\n",
       "      <td>8.903388</td>\n",
       "      <td>0</td>\n",
       "    </tr>\n",
       "    <tr>\n",
       "      <th>5</th>\n",
       "      <td>4.882932</td>\n",
       "      <td>9.484719</td>\n",
       "      <td>1</td>\n",
       "    </tr>\n",
       "    <tr>\n",
       "      <th>6</th>\n",
       "      <td>5.789606</td>\n",
       "      <td>11.072797</td>\n",
       "      <td>0</td>\n",
       "    </tr>\n",
       "    <tr>\n",
       "      <th>7</th>\n",
       "      <td>5.383717</td>\n",
       "      <td>10.924558</td>\n",
       "      <td>1</td>\n",
       "    </tr>\n",
       "    <tr>\n",
       "      <th>8</th>\n",
       "      <td>4.765263</td>\n",
       "      <td>9.076514</td>\n",
       "      <td>1</td>\n",
       "    </tr>\n",
       "    <tr>\n",
       "      <th>9</th>\n",
       "      <td>5.271280</td>\n",
       "      <td>9.836408</td>\n",
       "      <td>0</td>\n",
       "    </tr>\n",
       "  </tbody>\n",
       "</table>\n",
       "</div>"
      ],
      "text/plain": [
       "   Feature 1  Feature 2  Cluster\n",
       "0   5.248357  10.265005        1\n",
       "1   4.930868   9.628871        1\n",
       "2   5.323844  10.768670        0\n",
       "3   5.761515  10.566390        1\n",
       "4   4.882923   8.903388        0\n",
       "5   4.882932   9.484719        1\n",
       "6   5.789606  11.072797        0\n",
       "7   5.383717  10.924558        1\n",
       "8   4.765263   9.076514        1\n",
       "9   5.271280   9.836408        0"
      ]
     },
     "execution_count": 2,
     "metadata": {},
     "output_type": "execute_result"
    }
   ],
   "source": [
    "import numpy as np\n",
    "import pandas as pd\n",
    "\n",
    "# Step 1: Create a simple synthetic dataset with 2 features\n",
    "np.random.seed(42)\n",
    "\n",
    "# Feature 1: Random values centered around 5 (mean = 5, std deviation = 0.5)\n",
    "X1 = np.random.normal(5, 0.5, 10)\n",
    "\n",
    "# Feature 2: Linearly related to Feature 1 (Feature 2 = 2 * Feature 1 + noise)\n",
    "X2 = 2 * X1 + np.random.normal(0, 0.5, 10)\n",
    "\n",
    "# Cluster assignment: Arbitrary clustering (0 or 1)\n",
    "clusters = np.random.choice([0, 1], size=10)\n",
    "\n",
    "# Combine them into a DataFrame\n",
    "data = pd.DataFrame({\n",
    "    'Feature 1': X1,\n",
    "    'Feature 2': X2,\n",
    "    'Cluster': clusters\n",
    "})\n",
    "\n",
    "# Display the DataFrame\n",
    "data\n"
   ]
  },
  {
   "cell_type": "markdown",
   "metadata": {},
   "source": [
    "# Steps:\n",
    "\n",
    "- Standardize the Data\n",
    "- Apply PCA\n",
    "- Visualize"
   ]
  },
  {
   "cell_type": "code",
   "execution_count": null,
   "metadata": {},
   "outputs": [],
   "source": [
    "# Step 1: Standardize the data\n",
    "# Use StandardScaler to scale the data, so both features have zero mean and unit variance.\n",
    "\n",
    "# Your code here\n"
   ]
  },
  {
   "cell_type": "code",
   "execution_count": null,
   "metadata": {},
   "outputs": [],
   "source": [
    "# Step 2: Apply PCA to reduce to 1 principal component\n",
    "# Use PCA from sklearn to reduce the dataset to 1 component.\n",
    "\n",
    "# Your code here\n"
   ]
  },
  {
   "cell_type": "code",
   "execution_count": null,
   "metadata": {},
   "outputs": [],
   "source": [
    "# Step 3: Visualize the results\n",
    "# Plot the original data in 2D\n",
    "# Then, project the data onto the first principal component and plot the result in 1D\n",
    "\n",
    "# Your code here\n"
   ]
  }
 ],
 "metadata": {
  "kernelspec": {
   "display_name": "ivy_dev",
   "language": "python",
   "name": "python3"
  },
  "language_info": {
   "codemirror_mode": {
    "name": "ipython",
    "version": 3
   },
   "file_extension": ".py",
   "mimetype": "text/x-python",
   "name": "python",
   "nbconvert_exporter": "python",
   "pygments_lexer": "ipython3",
   "version": "3.10.13"
  }
 },
 "nbformat": 4,
 "nbformat_minor": 2
}
